{
 "cells": [
  {
   "cell_type": "markdown",
   "id": "e36b79ad",
   "metadata": {},
   "source": [
    "### Basic file for reading from web servers and displaying header information"
   ]
  },
  {
   "cell_type": "code",
   "execution_count": null,
   "id": "9f793f6e",
   "metadata": {},
   "outputs": [],
   "source": [
    "import requests\n",
    "\n",
    "def get_headers(headers):\n",
    "    \n",
    "    return_string = ''\n",
    "    \n",
    "    for header in headers.items():\n",
    "        return_string = return_string + str(header) + '\\n'\n",
    "        \n",
    "    return return_string\n",
    "\n",
    "r = requests.get('http://httpbin.org/ip')\n",
    "\n",
    "print('Headers: ' + get_headers(r.headers) + '\\n' +\n",
    "      'Body: ' + r.text)"
   ]
  },
  {
   "cell_type": "markdown",
   "id": "c029fd8f",
   "metadata": {},
   "source": [
    "### Use a redirect"
   ]
  },
  {
   "cell_type": "code",
   "execution_count": null,
   "id": "2e2c795a",
   "metadata": {},
   "outputs": [],
   "source": [
    "import requests\n",
    " \n",
    "payload = {'url':'http://www.edge-security.com'}\n",
    "r = requests.get('http://httpbin.org/redirect', params=payload)\n",
    "\n",
    "print(r.status_code)"
   ]
  },
  {
   "cell_type": "markdown",
   "id": "bdb37572",
   "metadata": {},
   "source": [
    "### Detailed header and other info"
   ]
  },
  {
   "cell_type": "code",
   "execution_count": null,
   "id": "d6eae3f2",
   "metadata": {
    "scrolled": false
   },
   "outputs": [],
   "source": [
    "import requests\n",
    "\n",
    "target = {'url':'http://www.bbc.co.uk'}\n",
    "\n",
    "# Can use head method to save retrieval of all data\n",
    "r = requests.get(target['url'],params='')\n",
    "\n",
    "print('\\t[-] ' + target['url'] + '\\n' + '\\t[-] Status Code: ' + str(r.status_code) + '\\n')\n",
    "\n",
    "print('\\t[-] Headers: \\n')\n",
    "\n",
    "for x in r.headers:\n",
    "    print('\\t    ' + x + '   \\t : ' + r.headers[x])\n",
    "    \n",
    "print('\\t[-] Content: ' + r.text)\n"
   ]
  },
  {
   "cell_type": "markdown",
   "id": "35b5e02b",
   "metadata": {},
   "source": [
    "### Post a custom header"
   ]
  },
  {
   "cell_type": "code",
   "execution_count": null,
   "id": "97d4d5e4",
   "metadata": {},
   "outputs": [],
   "source": [
    "import requests\n",
    "\n",
    "target = {'url':'http://httpbin.org/post'}\n",
    "my_headers = {'User-Agent':'Iphone 6'}\n",
    "\n",
    "r = requests.post(target['url'],data={'name':'dave'},headers=my_headers)\n",
    "\n",
    "print('\\t[-] ' + target['url'] + '\\n' + '\\t[-] Status Code: ' + str(r.status_code) + '\\n')\n",
    "\n",
    "print('\\t[-] Server Headers: \\n')\n",
    "\n",
    "for x in r.headers:\n",
    "    print('\\t    ' + x + '   \\t : ' + r.headers[x])\n",
    "    \n",
    "print('\\n\\t[-] Post Content: ' + r.text)\n",
    "\n"
   ]
  },
  {
   "cell_type": "code",
   "execution_count": null,
   "id": "28926232",
   "metadata": {},
   "outputs": [],
   "source": []
  }
 ],
 "metadata": {
  "kernelspec": {
   "display_name": "Python 3",
   "language": "python",
   "name": "python3"
  },
  "language_info": {
   "codemirror_mode": {
    "name": "ipython",
    "version": 3
   },
   "file_extension": ".py",
   "mimetype": "text/x-python",
   "name": "python",
   "nbconvert_exporter": "python",
   "pygments_lexer": "ipython3",
   "version": "3.8.10"
  }
 },
 "nbformat": 4,
 "nbformat_minor": 5
}
